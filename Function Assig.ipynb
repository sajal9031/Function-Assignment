{
 "cells": [
  {
   "cell_type": "markdown",
   "id": "23e13a09-7b75-4e2b-b0c8-c8b2a318f66a",
   "metadata": {},
   "source": [
    "1.) Which keyword is used to create a function? Create a function to return a list of odd numbers in the\n",
    "range of 1 to 25."
   ]
  },
  {
   "cell_type": "markdown",
   "id": "e570ae2c-79ee-4659-b0ab-fec39f843851",
   "metadata": {},
   "source": [
    "Ans.  In Python, the def keyword is used to create a function."
   ]
  },
  {
   "cell_type": "code",
   "execution_count": 13,
   "id": "7150a398-cbb2-401c-b138-1142a925f763",
   "metadata": {},
   "outputs": [
    {
     "name": "stdout",
     "output_type": "stream",
     "text": [
      "[1, 3, 5, 7, 9, 11, 13, 15, 17, 19, 21, 23, 25]\n"
     ]
    }
   ],
   "source": [
    "def odd_number():\n",
    "    odds=[]\n",
    "    for i in range(1,26):\n",
    "        if i %2 !=0:\n",
    "            odds.append(i)\n",
    "    return odds\n",
    "odds=odd_number()\n",
    "print(odds)"
   ]
  },
  {
   "cell_type": "markdown",
   "id": "0b8a64e2-176f-4c8c-8ca1-05746276bfe8",
   "metadata": {},
   "source": [
    "2.) Why *args and **kwargs is used in some functions? Create a function each for *args and **kwargs to\n",
    "demonstrate their use.\n",
    "\n"
   ]
  },
  {
   "cell_type": "markdown",
   "id": "2897c4e7-e237-4060-a64f-ed04ca1b9622",
   "metadata": {},
   "source": [
    "Ans.  \n",
    "        *args and **kwargs are used in functions to allow the function to take a variable number of arguments.\n",
    "\n",
    "*args is used to pass a non-keyworded, variable-length argument list to the function. *args collects all the positional arguments into a tuple"
   ]
  },
  {
   "cell_type": "code",
   "execution_count": 14,
   "id": "0870d291-f808-458a-b24a-8f4572eaca8d",
   "metadata": {},
   "outputs": [
    {
     "name": "stdout",
     "output_type": "stream",
     "text": [
      "Positional arguments: (1, 2, 3)\n"
     ]
    }
   ],
   "source": [
    "def print_args(*args):\n",
    "    print(\"Positional arguments:\", args)\n",
    "\n",
    "print_args(1, 2, 3)"
   ]
  },
  {
   "cell_type": "code",
   "execution_count": 15,
   "id": "09968e9f-89ab-4ebf-9fbb-5b579d5060cf",
   "metadata": {},
   "outputs": [
    {
     "name": "stdout",
     "output_type": "stream",
     "text": [
      "Keyword arguments: {'first': 1, 'second': 2, 'third': 3}\n"
     ]
    }
   ],
   "source": [
    "def print_kwargs(**kwargs):\n",
    "    print(\"Keyword arguments:\", kwargs)\n",
    "\n",
    "print_kwargs(first=1, second=2, third=3)"
   ]
  },
  {
   "cell_type": "code",
   "execution_count": null,
   "id": "69ddcc30-97bb-4bfa-a6cd-f96e5a3e5e74",
   "metadata": {},
   "outputs": [],
   "source": [
    "3.) What is an iterator in python?\n",
    "Name the method used to initialise the iterator object and the method\n",
    "used for iteration.Use these methods to print the first five elements of the given list [2, 4, 6, 8, 10, 12, 14, 16,\n",
    "18, 20]."
   ]
  },
  {
   "cell_type": "markdown",
   "id": "a768ed44-1ad9-4cfd-8c8a-4fadd0bccf50",
   "metadata": {},
   "source": [
    "Ans.a) An iterator in Python is an object that implements the iterator protocol, which consists of two methods: __iter__ and __next__. The __iter__ method returns the iterator object, and the __next__ method returns the next item from the sequence represented by the iterator.\n",
    "\n",
    "Iterators are used to traverse through a sequence of elements, such as a list, tuple, or string. The built-in iter function can be used to get an iterator from a sequence. The next function can be used to get the next item from the iterator.\n",
    "\n",
    "\n",
    "\n",
    "b) The method used to initialize the iterator object is __iter__. This method returns the iterator object, which can then be used to traverse through the elements of the sequence.\n",
    "\n",
    "The method used for iteration is __next__. This method returns the next item from the sequence represented by the iterator. When there are no more items to return, __next__ raises a StopIteration exception to signal the end of the sequence."
   ]
  },
  {
   "cell_type": "code",
   "execution_count": 18,
   "id": "3fdef47c-282f-4795-8a44-eaee317950f4",
   "metadata": {},
   "outputs": [
    {
     "name": "stdout",
     "output_type": "stream",
     "text": [
      "1\n",
      "2\n",
      "3\n",
      "4\n",
      "5\n"
     ]
    }
   ],
   "source": [
    "numbers = [1, 2, 3, 4, 5]\n",
    "for number in numbers:\n",
    "    print(number)"
   ]
  },
  {
   "cell_type": "code",
   "execution_count": null,
   "id": "62462b1b-de89-4673-ad57-90d2d280a5cf",
   "metadata": {},
   "outputs": [],
   "source": []
  },
  {
   "cell_type": "code",
   "execution_count": 21,
   "id": "7d4d5c47-7233-408b-a0e4-3a15f50dbf90",
   "metadata": {},
   "outputs": [
    {
     "name": "stdout",
     "output_type": "stream",
     "text": [
      "2\n",
      "4\n",
      "6\n",
      "8\n",
      "10\n"
     ]
    }
   ],
   "source": [
    "iterator = MyIterator([2, 4, 6, 8, 10, 12, 14, 16, 18, 20])\n",
    "\n",
    "# Use the iterator object in a for loop to print the first five elements\n",
    "for i in range(5):\n",
    "    print(next(iterator))"
   ]
  },
  {
   "cell_type": "markdown",
   "id": "4e19ce6e-66cb-41dc-a11f-2eec45491e90",
   "metadata": {},
   "source": [
    "4.) What is a generator function in python? Why yield keyword is used? Give an example of a generator\n",
    "function."
   ]
  },
  {
   "cell_type": "markdown",
   "id": "71337f0e-d4c6-4919-834e-87e8f2a3cbf2",
   "metadata": {},
   "source": [
    "A generator function is a special type of function in Python that generates a generator object when it is called. Unlike a regular function that returns a single value, a generator function can return a sequence of values, one at a time, by using the yield keyword.\n",
    "\n",
    "\n",
    "\n",
    "The yield keyword is used to return a value from the generator function and temporarily suspend its execution, so that it can be resumed later when the next value is needed. This allows the generator function to generate a potentially large sequence of values efficiently, one at a time, without having to store all of them in memory at once."
   ]
  },
  {
   "cell_type": "code",
   "execution_count": 24,
   "id": "caab6466-ca7f-4e01-ad2d-c08aada5d07a",
   "metadata": {},
   "outputs": [
    {
     "name": "stdout",
     "output_type": "stream",
     "text": [
      "0\n",
      "1\n",
      "1\n",
      "2\n",
      "3\n",
      "5\n",
      "8\n",
      "13\n",
      "21\n",
      "34\n"
     ]
    }
   ],
   "source": [
    "## The Fibonacci sequence is a series of numbers in which each number is the sum of the two preceding ones, starting from 0 and 1.\n",
    "def test_fib(n):\n",
    "    a,b =0,1\n",
    "    for i in range(n):\n",
    "        yield a\n",
    "        a,b=b, a+b   \n",
    "        \n",
    "for i in test_fib(10):\n",
    "    print(i)  \n",
    "\n",
    "\n",
    "    "
   ]
  },
  {
   "cell_type": "markdown",
   "id": "1160d7c8-bbfb-4f6e-a40a-c9c0cdb60057",
   "metadata": {},
   "source": [
    "5.) Create a generator function for prime numbers less than 1000. Use the next() method to print the\n",
    "first 20 prime numbers."
   ]
  },
  {
   "cell_type": "code",
   "execution_count": 25,
   "id": "ce1f4e84-ca57-4eaa-b732-aa4c620e20d1",
   "metadata": {},
   "outputs": [
    {
     "name": "stdout",
     "output_type": "stream",
     "text": [
      "2\n",
      "3\n",
      "5\n",
      "7\n",
      "11\n",
      "13\n",
      "17\n",
      "19\n",
      "23\n",
      "29\n",
      "31\n",
      "37\n",
      "41\n",
      "43\n",
      "47\n",
      "53\n",
      "59\n",
      "61\n",
      "67\n",
      "71\n"
     ]
    }
   ],
   "source": [
    "def prime_numbers():\n",
    "    yield 2\n",
    "    primes = [2]\n",
    "    candidate = 3\n",
    "    while candidate < 1000:\n",
    "        is_prime = True\n",
    "        for prime in primes:\n",
    "            if prime * prime > candidate:\n",
    "                break\n",
    "            if candidate % prime == 0:\n",
    "                is_prime = False\n",
    "                break\n",
    "        if is_prime:\n",
    "            primes.append(candidate)\n",
    "            yield candidate\n",
    "        candidate += 2\n",
    "\n",
    "# Use the generator function in a for loop to print the first 20 prime numbers\n",
    "primes = prime_numbers()\n",
    "for i in range(20):\n",
    "    print(next(primes))"
   ]
  },
  {
   "cell_type": "code",
   "execution_count": null,
   "id": "c36cb986-1ea1-496b-bf0d-f75699542f36",
   "metadata": {},
   "outputs": [],
   "source": []
  }
 ],
 "metadata": {
  "kernelspec": {
   "display_name": "Python 3 (ipykernel)",
   "language": "python",
   "name": "python3"
  },
  "language_info": {
   "codemirror_mode": {
    "name": "ipython",
    "version": 3
   },
   "file_extension": ".py",
   "mimetype": "text/x-python",
   "name": "python",
   "nbconvert_exporter": "python",
   "pygments_lexer": "ipython3",
   "version": "3.10.8"
  }
 },
 "nbformat": 4,
 "nbformat_minor": 5
}
